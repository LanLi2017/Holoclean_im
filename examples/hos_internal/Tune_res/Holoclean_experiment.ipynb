{
 "cells": [
  {
   "cell_type": "code",
   "execution_count": 3,
   "metadata": {
    "pycharm": {
     "is_executing": false
    }
   },
   "outputs": [],
   "source": [
    "import sys\n",
    "sys.path.append('../')\n",
    "import holoclean\n",
    "import numpy as np"
   ]
  },
  {
   "cell_type": "code",
   "execution_count": 8,
   "metadata": {},
   "outputs": [],
   "source": [
    "# set up Holoclean session\n",
    "hc = holoclean.HoloClean(\n",
    "        db_name='holo',\n",
    "        domain_thresh_1=0,\n",
    "        domain_thresh_2=0,\n",
    "        weak_label_thresh=0.99,\n",
    "        max_domain=10000,\n",
    "        cor_strength=0.6,\n",
    "        nb_cor_strength=0.8,\n",
    "        epochs=10,\n",
    "        weight_decay=0.01,\n",
    "        learning_rate=0.001,\n",
    "        threads=1,\n",
    "        batch_size=1,\n",
    "        verbose=True,\n",
    "        timeout=3*60000,\n",
    "        feature_norm=False,\n",
    "        weight_norm=False,\n",
    "        print_fw=True\n",
    "    ).session"
   ]
  },
  {
   "cell_type": "code",
   "execution_count": 12,
   "metadata": {},
   "outputs": [],
   "source": [
    "# load data\n",
    "# name, and file path\n",
    "hc.load_data('hospital','../testdata1/hospital.csv')"
   ]
  },
  {
   "cell_type": "code",
   "execution_count": 13,
   "metadata": {},
   "outputs": [
    {
     "name": "stdout",
     "output_type": "stream",
     "text": [
      "rewrite DC in constraint.py : Condition\n",
      "rewrite DC in constraint.py : MeasureName\n",
      "rewrite DC in constraint.py : HospitalType\n",
      "whats CNF form? check from constraint.py: ['t1.\"Condition\"=t2.\"Condition\"', 't1.\"MeasureName\"=t2.\"MeasureName\"', 't1.\"HospitalType\"<>t2.\"HospitalType\"']\n",
      "whats self.CNF form? check from constraint.py: t1.\"Condition\"=t2.\"Condition\" AND t1.\"MeasureName\"=t2.\"MeasureName\" AND t1.\"HospitalType\"<>t2.\"HospitalType\"\n",
      "check from constraint.py\n",
      "rewrite DC in constraint.py : HospitalName\n",
      "rewrite DC in constraint.py : ZipCode\n",
      "whats CNF form? check from constraint.py: ['t1.\"HospitalName\"=t2.\"HospitalName\"', 't1.\"ZipCode\"<>t2.\"ZipCode\"']\n",
      "whats self.CNF form? check from constraint.py: t1.\"HospitalName\"=t2.\"HospitalName\" AND t1.\"ZipCode\"<>t2.\"ZipCode\"\n",
      "check from constraint.py\n",
      "rewrite DC in constraint.py : HospitalName\n",
      "rewrite DC in constraint.py : PhoneNumber\n",
      "whats CNF form? check from constraint.py: ['t1.\"HospitalName\"=t2.\"HospitalName\"', 't1.\"PhoneNumber\"<>t2.\"PhoneNumber\"']\n",
      "whats self.CNF form? check from constraint.py: t1.\"HospitalName\"=t2.\"HospitalName\" AND t1.\"PhoneNumber\"<>t2.\"PhoneNumber\"\n",
      "check from constraint.py\n",
      "rewrite DC in constraint.py : MeasureCode\n",
      "rewrite DC in constraint.py : MeasureName\n",
      "whats CNF form? check from constraint.py: ['t1.\"MeasureCode\"=t2.\"MeasureCode\"', 't1.\"MeasureName\"<>t2.\"MeasureName\"']\n",
      "whats self.CNF form? check from constraint.py: t1.\"MeasureCode\"=t2.\"MeasureCode\" AND t1.\"MeasureName\"<>t2.\"MeasureName\"\n",
      "check from constraint.py\n",
      "rewrite DC in constraint.py : MeasureCode\n",
      "rewrite DC in constraint.py : Stateavg\n",
      "whats CNF form? check from constraint.py: ['t1.\"MeasureCode\"=t2.\"MeasureCode\"', 't1.\"Stateavg\"<>t2.\"Stateavg\"']\n",
      "whats self.CNF form? check from constraint.py: t1.\"MeasureCode\"=t2.\"MeasureCode\" AND t1.\"Stateavg\"<>t2.\"Stateavg\"\n",
      "check from constraint.py\n",
      "rewrite DC in constraint.py : ProviderNumber\n",
      "rewrite DC in constraint.py : HospitalName\n",
      "whats CNF form? check from constraint.py: ['t1.\"ProviderNumber\"=t2.\"ProviderNumber\"', 't1.\"HospitalName\"<>t2.\"HospitalName\"']\n",
      "whats self.CNF form? check from constraint.py: t1.\"ProviderNumber\"=t2.\"ProviderNumber\" AND t1.\"HospitalName\"<>t2.\"HospitalName\"\n",
      "check from constraint.py\n",
      "rewrite DC in constraint.py : MeasureCode\n",
      "rewrite DC in constraint.py : Condition\n",
      "whats CNF form? check from constraint.py: ['t1.\"MeasureCode\"=t2.\"MeasureCode\"', 't1.\"Condition\"<>t2.\"Condition\"']\n",
      "whats self.CNF form? check from constraint.py: t1.\"MeasureCode\"=t2.\"MeasureCode\" AND t1.\"Condition\"<>t2.\"Condition\"\n",
      "check from constraint.py\n",
      "rewrite DC in constraint.py : HospitalName\n",
      "rewrite DC in constraint.py : Address1\n",
      "whats CNF form? check from constraint.py: ['t1.\"HospitalName\"=t2.\"HospitalName\"', 't1.\"Address1\"<>t2.\"Address1\"']\n",
      "whats self.CNF form? check from constraint.py: t1.\"HospitalName\"=t2.\"HospitalName\" AND t1.\"Address1\"<>t2.\"Address1\"\n",
      "check from constraint.py\n",
      "rewrite DC in constraint.py : HospitalName\n",
      "rewrite DC in constraint.py : HospitalOwner\n",
      "whats CNF form? check from constraint.py: ['t1.\"HospitalName\"=t2.\"HospitalName\"', 't1.\"HospitalOwner\"<>t2.\"HospitalOwner\"']\n",
      "whats self.CNF form? check from constraint.py: t1.\"HospitalName\"=t2.\"HospitalName\" AND t1.\"HospitalOwner\"<>t2.\"HospitalOwner\"\n",
      "check from constraint.py\n",
      "rewrite DC in constraint.py : HospitalName\n",
      "rewrite DC in constraint.py : ProviderNumber\n",
      "whats CNF form? check from constraint.py: ['t1.\"HospitalName\"=t2.\"HospitalName\"', 't1.\"ProviderNumber\"<>t2.\"ProviderNumber\"']\n",
      "whats self.CNF form? check from constraint.py: t1.\"HospitalName\"=t2.\"HospitalName\" AND t1.\"ProviderNumber\"<>t2.\"ProviderNumber\"\n",
      "check from constraint.py\n",
      "rewrite DC in constraint.py : HospitalName\n",
      "rewrite DC in constraint.py : PhoneNumber\n",
      "rewrite DC in constraint.py : HospitalOwner\n",
      "rewrite DC in constraint.py : State\n",
      "whats CNF form? check from constraint.py: ['t1.\"HospitalName\"=t2.\"HospitalName\"', 't1.\"PhoneNumber\"=t2.\"PhoneNumber\"', 't1.\"HospitalOwner\"=t2.\"HospitalOwner\"', 't1.\"State\"<>t2.\"State\"']\n",
      "whats self.CNF form? check from constraint.py: t1.\"HospitalName\"=t2.\"HospitalName\" AND t1.\"PhoneNumber\"=t2.\"PhoneNumber\" AND t1.\"HospitalOwner\"=t2.\"HospitalOwner\" AND t1.\"State\"<>t2.\"State\"\n",
      "check from constraint.py\n",
      "rewrite DC in constraint.py : City\n",
      "rewrite DC in constraint.py : CountyName\n",
      "whats CNF form? check from constraint.py: ['t1.\"City\"=t2.\"City\"', 't1.\"CountyName\"<>t2.\"CountyName\"']\n",
      "whats self.CNF form? check from constraint.py: t1.\"City\"=t2.\"City\" AND t1.\"CountyName\"<>t2.\"CountyName\"\n",
      "check from constraint.py\n",
      "rewrite DC in constraint.py : ZipCode\n",
      "rewrite DC in constraint.py : EmergencyService\n",
      "whats CNF form? check from constraint.py: ['t1.\"ZipCode\"=t2.\"ZipCode\"', 't1.\"EmergencyService\"<>t2.\"EmergencyService\"']\n",
      "whats self.CNF form? check from constraint.py: t1.\"ZipCode\"=t2.\"ZipCode\" AND t1.\"EmergencyService\"<>t2.\"EmergencyService\"\n",
      "check from constraint.py\n",
      "rewrite DC in constraint.py : HospitalName\n",
      "rewrite DC in constraint.py : City\n",
      "whats CNF form? check from constraint.py: ['t1.\"HospitalName\"=t2.\"HospitalName\"', 't1.\"City\"<>t2.\"City\"']\n",
      "whats self.CNF form? check from constraint.py: t1.\"HospitalName\"=t2.\"HospitalName\" AND t1.\"City\"<>t2.\"City\"\n",
      "check from constraint.py\n",
      "rewrite DC in constraint.py : MeasureName\n",
      "rewrite DC in constraint.py : MeasureCode\n",
      "whats CNF form? check from constraint.py: ['t1.\"MeasureName\"=t2.\"MeasureName\"', 't1.\"MeasureCode\"<>t2.\"MeasureCode\"']\n",
      "whats self.CNF form? check from constraint.py: t1.\"MeasureName\"=t2.\"MeasureName\" AND t1.\"MeasureCode\"<>t2.\"MeasureCode\"\n",
      "check from constraint.py\n"
     ]
    }
   ],
   "source": [
    "# load constraints \n",
    "hc.load_dcs('../testdata1/hospital_constraints.txt')"
   ]
  },
  {
   "cell_type": "code",
   "execution_count": 4,
   "metadata": {
    "pycharm": {
     "is_executing": false,
     "name": "#%%\n"
    }
   },
   "outputs": [
    {
     "data": {
      "text/plain": [
       "[(0.19999999999999996, 0.05),\n",
       " (0.19999999999999996, 0.15000000000000002),\n",
       " (0.09999999999999998, 0.05),\n",
       " (0.09999999999999998, 0.15000000000000002)]"
      ]
     },
     "execution_count": 4,
     "metadata": {},
     "output_type": "execute_result"
    }
   ],
   "source": [
    "# create a dataframe: \n",
    "# fraction of missing value; \n",
    "# fraction of mimatched value;\n",
    "# evaluation report \n",
    "frac_1 = np.arange(0.8,0.95,0.1) # [0.8, 0.9]\n",
    "frac_2 = np.arange(0.05, 0.2, 0.1) # [0.05, 0.15]\n",
    "pair_fracs = []\n",
    "for f in frac_1:\n",
    "    pair_fracs.extend(list(zip([1-f for _ in range(5)],frac_2)))\n",
    "pair_fracs"
   ]
  },
  {
   "cell_type": "code",
   "execution_count": 6,
   "metadata": {
    "pycharm": {
     "name": "#%%\n"
    }
   },
   "outputs": [
    {
     "data": {
      "text/plain": [
       "[0.05, 0.15000000000000002, 0.05, 0.15000000000000002]"
      ]
     },
     "execution_count": 6,
     "metadata": {},
     "output_type": "execute_result"
    }
   ],
   "source": [
    "# missing fraction list\n",
    "missing = []\n",
    "# mimatched fraction list \n",
    "mim = []\n",
    "for pair in pair_fracs:\n",
    "    missing.append(pair[0])\n",
    "    mim.append(pair[1])"
   ]
  },
  {
   "cell_type": "code",
   "execution_count": 7,
   "metadata": {},
   "outputs": [
    {
     "data": {
      "text/plain": [
       "[0.19999999999999996,\n",
       " 0.19999999999999996,\n",
       " 0.09999999999999998,\n",
       " 0.09999999999999998]"
      ]
     },
     "execution_count": 7,
     "metadata": {},
     "output_type": "execute_result"
    }
   ],
   "source": [
    "missing"
   ]
  },
  {
   "cell_type": "code",
   "execution_count": null,
   "metadata": {},
   "outputs": [],
   "source": []
  }
 ],
 "metadata": {
  "kernelspec": {
   "display_name": "Python 3",
   "language": "python",
   "name": "python3"
  },
  "language_info": {
   "codemirror_mode": {
    "name": "ipython",
    "version": 3
   },
   "file_extension": ".py",
   "mimetype": "text/x-python",
   "name": "python",
   "nbconvert_exporter": "python",
   "pygments_lexer": "ipython3",
   "version": "3.6.2"
  },
  "pycharm": {
   "stem_cell": {
    "cell_type": "raw",
    "metadata": {
     "collapsed": false
    },
    "source": []
   }
  }
 },
 "nbformat": 4,
 "nbformat_minor": 1
}
